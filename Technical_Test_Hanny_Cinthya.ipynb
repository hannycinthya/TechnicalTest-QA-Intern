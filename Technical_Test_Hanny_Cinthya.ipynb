{
  "nbformat": 4,
  "nbformat_minor": 0,
  "metadata": {
    "colab": {
      "provenance": []
    },
    "kernelspec": {
      "name": "python3",
      "display_name": "Python 3"
    },
    "language_info": {
      "name": "python"
    }
  },
  "cells": [
    {
      "cell_type": "markdown",
      "source": [
        "Soal no 1"
      ],
      "metadata": {
        "id": "xyz5C9jWgkmk"
      }
    },
    {
      "cell_type": "code",
      "source": [
        "angka = int(input(\"Masukkan Bilangan : \"))"
      ],
      "metadata": {
        "colab": {
          "base_uri": "https://localhost:8080/"
        },
        "id": "eSREIFrsTue5",
        "outputId": "0976c05e-38c4-4f22-96a7-01e52730e2a6"
      },
      "execution_count": 69,
      "outputs": [
        {
          "name": "stdout",
          "output_type": "stream",
          "text": [
            "Masukkan Bilangan : 9\n"
          ]
        }
      ]
    },
    {
      "cell_type": "code",
      "source": [
        "if angka % 2 == 0:\n",
        "  angka -= 1\n",
        "  while angka >= 1:\n",
        "    print (angka)\n",
        "    angka -= 2\n",
        "else :\n",
        "  while angka >= 1:\n",
        "    print (angka)\n",
        "    angka -= 2"
      ],
      "metadata": {
        "colab": {
          "base_uri": "https://localhost:8080/"
        },
        "id": "sSZHzhxXXBEz",
        "outputId": "e6b5eae4-ac35-43b1-e5be-65297a444583"
      },
      "execution_count": 70,
      "outputs": [
        {
          "output_type": "stream",
          "name": "stdout",
          "text": [
            "9\n",
            "7\n",
            "5\n",
            "3\n",
            "1\n"
          ]
        }
      ]
    },
    {
      "cell_type": "markdown",
      "source": [
        "Soal No 2"
      ],
      "metadata": {
        "id": "O9M0QAcBg-YG"
      }
    },
    {
      "cell_type": "code",
      "source": [
        "def array(kata):\n",
        "  vokal=\"AIUEOaiueo\"\n",
        "  for karakter in kata:\n",
        "    if karakter in vokal:\n",
        "      print (karakter)\n",
        "\n",
        "kata = str(input(\"Masukkan Kata : \"))\n",
        "array(kata)"
      ],
      "metadata": {
        "colab": {
          "base_uri": "https://localhost:8080/"
        },
        "id": "1vGh-wG1iQZR",
        "outputId": "b00a9594-cfde-4af2-dc5b-ae02187c47e5"
      },
      "execution_count": 71,
      "outputs": [
        {
          "output_type": "stream",
          "name": "stdout",
          "text": [
            "Masukkan Kata : Indonesia Raya\n",
            "I\n",
            "o\n",
            "e\n",
            "i\n",
            "a\n",
            "a\n",
            "a\n"
          ]
        }
      ]
    },
    {
      "cell_type": "markdown",
      "source": [],
      "metadata": {
        "id": "QVpK_sVVhBxX"
      }
    }
  ]
}